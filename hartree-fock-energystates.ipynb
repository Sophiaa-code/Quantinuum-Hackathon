{
 "cells": [
  {
   "cell_type": "code",
   "execution_count": 8,
   "metadata": {},
   "outputs": [],
   "source": [
    "from pyscf import gto, scf, dft, tddft, cc, mf_dft\n",
    "from pyscf.geomopt.geometric_solver import optimize"
   ]
  },
  {
   "cell_type": "code",
   "execution_count": 9,
   "metadata": {},
   "outputs": [],
   "source": [
    "#Molecule definition for Diazene trans\n",
    "mol1 = gto.M(atom=' N   1.0590 0.1544 0.0159; N   2.2917 -0.0058 -0.0686; H   0.6279 -0.6836 -0.4250; H   2.7228 0.8321 0.3723', basis='6-31G')\n",
    "mf = scf.RHF(mol1)"
   ]
  },
  {
   "cell_type": "code",
   "execution_count": 4,
   "metadata": {},
   "outputs": [],
   "source": [
    "#Molecule definition for Dimethyl diazene \n",
    "mol2 = gto.M(atom=' N  1.7039    0.3554   -0.3513 ; N   0.7008    0.1371    0.3515 ; C -0.4089    1.0459    0.0436 ; C 2.8136   -0.5534   -0.0433; H    -1.2745    0.4370   -0.2422 ; H -0.6749    1.5778    0.9644 ; H -0.1590    1.7565   -0.7524 ; H 3.6792    0.0555    0.2424 ; H 2.5637   -1.2640    0.7527; H 3.0796   -1.0853   -0.9642 ', basis='6-31G')\n",
    "mf = scf.RHF(mol2)"
   ]
  },
  {
   "cell_type": "code",
   "execution_count": 10,
   "metadata": {},
   "outputs": [
    {
     "name": "stdout",
     "output_type": "stream",
     "text": [
      "converged SCF energy = -110.527082356456\n",
      "Excited State energies (eV)\n",
      "[ 3.00453132  7.72363135  7.82402313  8.63137214  9.77036047 10.05093873\n",
      " 11.87938002 11.94514695 12.8175173  13.2730906 ]\n",
      "\n",
      "** Singlet excitation energies and oscillator strengths **\n",
      "Excited State   1:      3.00453 eV    412.66 nm  f=0.0000\n",
      "Excited State   2:      7.72363 eV    160.53 nm  f=0.1247\n",
      "Excited State   3:      7.82402 eV    158.47 nm  f=0.0000\n",
      "Excited State   4:      8.63137 eV    143.64 nm  f=0.0426\n",
      "Excited State   5:      9.77036 eV    126.90 nm  f=0.0000\n",
      "Excited State   6:     10.05094 eV    123.36 nm  f=0.2306\n",
      "Excited State   7:     11.87938 eV    104.37 nm  f=0.0000\n",
      "Excited State   8:     11.94515 eV    103.79 nm  f=0.0137\n",
      "Excited State   9:     12.81752 eV     96.73 nm  f=0.0000\n",
      "Excited State  10:     13.27309 eV     93.41 nm  f=0.1722\n"
     ]
    },
    {
     "data": {
      "text/plain": [
       "<pyscf.tdscf.rks.TDDFT at 0x7fa909ba92e0>"
      ]
     },
     "execution_count": 10,
     "metadata": {},
     "output_type": "execute_result"
    }
   ],
   "source": [
    "mf = dft.RKS(mol1) #computing the \n",
    "mf.xc = 'b3lyp'\n",
    "mf.kernel()\n",
    "\n",
    "mytd = tddft.TDDFT(mf)\n",
    "mytd.nstates = 10\n",
    "mytd.kernel()\n",
    "mytd.analyze()"
   ]
  },
  {
   "cell_type": "code",
   "execution_count": 6,
   "metadata": {},
   "outputs": [
    {
     "name": "stdout",
     "output_type": "stream",
     "text": [
      "converged SCF energy = -189.086789407643\n",
      "TD-SCF states [0, 1, 2, 3, 4, 5, 6, 7, 8, 9] not converged.\n",
      "Excited State energies (eV)\n",
      "[0.39257102 2.68251949 3.29798634 6.7910568  7.1756152  7.6293635\n",
      " 7.91873542 8.13592944 8.27390539 8.33899082]\n",
      "\n",
      "** Singlet excitation energies and oscillator strengths **\n",
      "Excited State   1:      0.39257 eV   3158.26 nm  f=nan\n",
      "Excited State   2:      2.68252 eV    462.19 nm  f=0.0289\n",
      "Excited State   3:      3.29799 eV    375.94 nm  f=0.0000\n",
      "Excited State   4:      6.79106 eV    182.57 nm  f=0.0166\n",
      "Excited State   5:      7.17562 eV    172.79 nm  f=0.0170\n",
      "Excited State   6:      7.62936 eV    162.51 nm  f=0.1623\n",
      "Excited State   7:      7.91874 eV    156.57 nm  f=0.1729\n",
      "Excited State   8:      8.13593 eV    152.39 nm  f=0.0000\n",
      "Excited State   9:      8.27391 eV    149.85 nm  f=0.2608\n",
      "Excited State  10:      8.33899 eV    148.68 nm  f=0.0000\n"
     ]
    },
    {
     "name": "stderr",
     "output_type": "stream",
     "text": [
      "/Users/sophiawidmer/inquanto/lib/python3.9/site-packages/pyscf/tdscf/rhf.py:1018: RuntimeWarning: invalid value encountered in sqrt\n",
      "  norm = numpy.sqrt(.5/norm)  # normalize to 0.5 for alpha spin\n"
     ]
    },
    {
     "data": {
      "text/plain": [
       "<pyscf.tdscf.rks.TDDFT at 0x7fa90bdd7970>"
      ]
     },
     "execution_count": 6,
     "metadata": {},
     "output_type": "execute_result"
    }
   ],
   "source": [
    "mf = dft.RKS(mol2)\n",
    "mf.xc = 'b3lyp'\n",
    "mf.kernel()\n",
    "\n",
    "mytd = tddft.TDDFT(mf) #applying time dependent density theory \n",
    "mytd.nstates = 10\n",
    "mytd.kernel()\n",
    "mytd.analyze()"
   ]
  },
  {
   "cell_type": "code",
   "execution_count": 13,
   "metadata": {},
   "outputs": [
    {
     "ename": "AssertionError",
     "evalue": "",
     "output_type": "error",
     "traceback": [
      "\u001b[0;31m---------------------------------------------------------------------------\u001b[0m",
      "\u001b[0;31mAssertionError\u001b[0m                            Traceback (most recent call last)",
      "Cell \u001b[0;32mIn[13], line 4\u001b[0m\n\u001b[1;32m      2\u001b[0m mycc \u001b[39m=\u001b[39m cc\u001b[39m.\u001b[39mRCCSD(mf)\n\u001b[1;32m      3\u001b[0m mycc\u001b[39m.\u001b[39mverbose \u001b[39m=\u001b[39m \u001b[39m7\u001b[39m\n\u001b[0;32m----> 4\u001b[0m mycc\u001b[39m.\u001b[39;49mccsd()\n",
      "File \u001b[0;32m~/inquanto/lib/python3.9/site-packages/pyscf/cc/ccsd.py:1078\u001b[0m, in \u001b[0;36mCCSD.ccsd\u001b[0;34m(self, t1, t2, eris)\u001b[0m\n\u001b[1;32m   1077\u001b[0m \u001b[39mdef\u001b[39;00m \u001b[39mccsd\u001b[39m(\u001b[39mself\u001b[39m, t1\u001b[39m=\u001b[39m\u001b[39mNone\u001b[39;00m, t2\u001b[39m=\u001b[39m\u001b[39mNone\u001b[39;00m, eris\u001b[39m=\u001b[39m\u001b[39mNone\u001b[39;00m):\n\u001b[0;32m-> 1078\u001b[0m     \u001b[39massert\u001b[39;00m (\u001b[39mself\u001b[39m\u001b[39m.\u001b[39mmo_coeff \u001b[39mis\u001b[39;00m \u001b[39mnot\u001b[39;00m \u001b[39mNone\u001b[39;00m)\n\u001b[1;32m   1079\u001b[0m     \u001b[39massert\u001b[39;00m (\u001b[39mself\u001b[39m\u001b[39m.\u001b[39mmo_occ \u001b[39mis\u001b[39;00m \u001b[39mnot\u001b[39;00m \u001b[39mNone\u001b[39;00m)\n\u001b[1;32m   1081\u001b[0m     \u001b[39mif\u001b[39;00m \u001b[39mself\u001b[39m\u001b[39m.\u001b[39mverbose \u001b[39m>\u001b[39m\u001b[39m=\u001b[39m logger\u001b[39m.\u001b[39mWARN:\n",
      "\u001b[0;31mAssertionError\u001b[0m: "
     ]
    }
   ],
   "source": [
    "mf = scf.RHF(mol1)\n",
    "mycc = cc.RCCSD(mf)\n",
    "mycc.verbose = 7\n",
    "mycc.ccsd()"
   ]
  }
 ],
 "metadata": {
  "kernelspec": {
   "display_name": "inquanto",
   "language": "python",
   "name": "python3"
  },
  "language_info": {
   "codemirror_mode": {
    "name": "ipython",
    "version": 3
   },
   "file_extension": ".py",
   "mimetype": "text/x-python",
   "name": "python",
   "nbconvert_exporter": "python",
   "pygments_lexer": "ipython3",
   "version": "3.9.3"
  },
  "orig_nbformat": 4
 },
 "nbformat": 4,
 "nbformat_minor": 2
}
