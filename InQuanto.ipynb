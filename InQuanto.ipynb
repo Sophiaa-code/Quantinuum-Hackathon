{
 "cells": [
  {
   "cell_type": "code",
   "execution_count": 1,
   "metadata": {},
   "outputs": [],
   "source": [
    " # ################################################\n",
    " #            MOLECULE SPECIFICATION              #\n",
    " # ################################################\n",
    "\n",
    "#basis = \"631+g\"; \n",
    "charge = 0\n",
    "basis=\"sto6g\"\n",
    "\n",
    "geometry = [['N', [2.01085434e+00,  2.41275446e-01, 3.58127897e-03]],\n",
    "            ['N', [ 4.32105011e+00,  3.93732487e-02, -1.03034961e-01]],\n",
    "            ['H', [ 1.16695296e+00, -1.27702289e+00, -7.95455978e-01]],\n",
    "            ['H', [ 5.16495323e+00,  1.55781182e+00,  6.95732527e-01]]]"
   ]
  },
  {
   "cell_type": "code",
   "execution_count": 2,
   "metadata": {},
   "outputs": [
    {
     "data": {
      "application/vnd.jupyter.widget-view+json": {
       "model_id": "86b414c4703b4858a19265c737883cfc",
       "version_major": 2,
       "version_minor": 0
      },
      "text/plain": []
     },
     "metadata": {},
     "output_type": "display_data"
    },
    {
     "data": {
      "application/vnd.jupyter.widget-view+json": {
       "model_id": "163ffa9114c24f56bd06e4d239012410",
       "version_major": 2,
       "version_minor": 0
      },
      "text/plain": [
       "NGLWidget()"
      ]
     },
     "metadata": {},
     "output_type": "display_data"
    }
   ],
   "source": [
    "from inquanto.geometries import GeometryMolecular\n",
    "from inquanto.extensions.nglview import VisualizerNGL\n",
    "\n",
    "n2h2_geom = GeometryMolecular(geometry)\n",
    "visualizer = VisualizerNGL(n2h2_geom)\n",
    "visualizer.visualize_molecule(atom_labels=\"index\")"
   ]
  },
  {
   "cell_type": "code",
   "execution_count": 3,
   "metadata": {},
   "outputs": [
    {
     "data": {
      "application/vnd.jupyter.widget-view+json": {
       "model_id": "c59f02b040054ad4bd3f2d259a99bb68",
       "version_major": 2,
       "version_minor": 0
      },
      "text/plain": [
       "NGLWidget()"
      ]
     },
     "metadata": {},
     "output_type": "display_data"
    }
   ],
   "source": [
    "from inquanto.extensions.pyscf import ChemistryDriverPySCFMolecularRHF\n",
    "\n",
    "driver = ChemistryDriverPySCFMolecularRHF(geometry=n2h2_geom.xyz, basis=basis)\n",
    "\n",
    "cube_orbitals=driver.get_cube_orbitals()\n",
    "ngl_mos = [visualizer.visualize_orbitals(orb) for orb in cube_orbitals]\n",
    "ngl_mos[7]"
   ]
  },
  {
   "cell_type": "code",
   "execution_count": 4,
   "metadata": {},
   "outputs": [
    {
     "data": {
      "text/plain": [
       "12"
      ]
     },
     "execution_count": 4,
     "metadata": {},
     "output_type": "execute_result"
    }
   ],
   "source": [
    "len(ngl_mos)"
   ]
  },
  {
   "cell_type": "code",
   "execution_count": 5,
   "metadata": {},
   "outputs": [
    {
     "name": "stderr",
     "output_type": "stream",
     "text": [
      "<string>:1053: UserWarning: Warning! Symmetry information for systems with point groups other than C2v, D2h, Coov and Dooh are sometimes unreliable from this driver!\n"
     ]
    },
    {
     "name": "stdout",
     "output_type": "stream",
     "text": [
      "HARTREE FOCK ENERGY: -108.74036722308217\n",
      "\n"
     ]
    }
   ],
   "source": [
    "# ################################################## #\n",
    "#             PRELIMINARY CALCULATIONS               #\n",
    "# ################################################## #\n",
    "\n",
    "from inquanto.extensions.pyscf import ChemistryDriverPySCFMolecularRHF, FromActiveSpace, CASSCF\n",
    "from scipy.linalg import eigh\n",
    "\n",
    "ncas = 4\n",
    "nelecas = 4\n",
    "active_space = FromActiveSpace(ncas=ncas, nelecas=nelecas)\n",
    "casscf = CASSCF(ncas=ncas, nelecas=nelecas)\n",
    "driver = ChemistryDriverPySCFMolecularRHF(basis=basis, geometry=geometry, charge=charge, frozen=active_space, transf=casscf, point_group_symmetry=True)\n",
    "chemistry_hamiltonian, fock_space, hartree_fock_state = driver.get_system()\n",
    "hartree_fock_energy = driver.mf_energy\n",
    "\n",
    "print('HARTREE FOCK ENERGY: {}\\n'.format(hartree_fock_energy))"
   ]
  },
  {
   "cell_type": "code",
   "execution_count": 6,
   "metadata": {},
   "outputs": [
    {
     "name": "stdout",
     "output_type": "stream",
     "text": [
      "SECOND QUANTIZED HAMILTONIAN PRINTED:\n",
      "(-105.05002566228524, ), (-1.6367247345774751, F0^ F0 ), (-1.1000829988883512e-08, F0^ F2 ), (-2.282929713499915e-08, F0^ F6 ), (-1.1000829911188674e-08, F2^ F0 ), (-1.5815670454453805, F2^ F2 ), (-2.8746110191463073e-08, F2^ F4 ), (-2.874610994506119e-08, F4^ F2 ), (-1.5608816506486425, F4^ F4 ), (-2.2579484914860052e-08, F4^ F6 ), (-2.2829296938758556e-08, F6^ F0 ), (-2.257948490016096e-08, F6^ F4 ), (-1.5483654516075318, F6^ F6 ), (-1.6367247345774751, F1^ F1 ), (-1.1000829988883512e-08, F1^ F3 ), (-2.282929713499915e-08, F1^ F7 ), (-1.1000829911188674e-08, F3^ F1 ), (-1.5815670454453805, F3^ F3 ), (-2.8746110191463073e-08, F3^ F5 ), (-2.874610994506119e-08, F5^ F3 ), (-1.5608816506486425, F5^ F5 ), (-2.2579484914860052e-08, F5^ F7 ), (-2.2829296938758556e-08, F7^ F1 ), (-2.257948490016096e-08, F7^ F5 ), (-1.5483654516075318, F7^ F7 ), (0.430077832501432, F2^ F0^ F0  F2 ), (0.43267735666038853, F4^ F0^ F0  F4 ), (1.4279340119810642e-07, F4^ F0^ F0  F6 ), (1.427934011947454e-07, F6^ F0^ F0  F4 ), (0.24691536591402088, F6^ F0^ F0  F6 ), (2.536594243749942e-07, F4^ F0^ F2  F4 ), (-0.20357098018022932, F4^ F0^ F2  F6 ), (0.0010130670953130035, F6^ F0^ F2  F4 ), (-0.20458404727554239, F2^ F0^ F4  F6 ), (1.298600615155755e-07, F6^ F0^ F2  F6 ), (2.536594243874625e-07, F4^ F2^ F0  F4 ), (0.001013067095313, F4^ F2^ F0  F6 ), (-0.20357098018022937, F6^ F2^ F0  F4 ), (0.21939815797491638, F4^ F2^ F2  F4 ), (0.43927054711320146, F6^ F2^ F2  F6 ), (1.6017708433745375e-07, F6^ F2^ F2  F4 ), (1.6017708434005584e-07, F4^ F2^ F2  F6 ), (1.29860061510805e-07, F6^ F2^ F0  F6 ), (-0.20458404727554233, F6^ F4^ F0  F2 ), (0.4402024708810993, F6^ F4^ F4  F6 ), (0.430077832501432, F3^ F1^ F1  F3 ), (0.43267735666038853, F5^ F1^ F1  F5 ), (1.4279340119810642e-07, F5^ F1^ F1  F7 ), (1.427934011947454e-07, F7^ F1^ F1  F5 ), (0.24691536591402088, F7^ F1^ F1  F7 ), (2.536594243749942e-07, F5^ F1^ F3  F5 ), (-0.20357098018022932, F5^ F1^ F3  F7 ), (0.0010130670953130035, F7^ F1^ F3  F5 ), (-0.20458404727554239, F3^ F1^ F5  F7 ), (1.298600615155755e-07, F7^ F1^ F3  F7 ), (2.536594243874625e-07, F5^ F3^ F1  F5 ), (0.001013067095313, F5^ F3^ F1  F7 ), (-0.20357098018022937, F7^ F3^ F1  F5 ), (0.21939815797491638, F5^ F3^ F3  F5 ), (0.43927054711320146, F7^ F3^ F3  F7 ), (1.6017708433745375e-07, F7^ F3^ F3  F5 ), (1.6017708434005584e-07, F5^ F3^ F3  F7 ), (1.29860061510805e-07, F7^ F3^ F1  F7 ), (-0.20458404727554233, F7^ F5^ F1  F3 ), (0.4402024708810993, F7^ F5^ F5  F7 ), (0.4961090930121423, F1^ F0^ F0  F1 ), (0.4507583857955602, F2^ F1^ F1  F2 ), (0.452378949129996, F4^ F1^ F1  F4 ), (-2.047043126771498e-08, F4^ F1^ F1  F6 ), (-2.047043126793182e-08, F6^ F1^ F1  F4 ), (0.5043540944019087, F6^ F1^ F1  F6 ), (0.020680553294128216, F1^ F0^ F2  F3 ), (-0.020680553294128212, F2^ F1^ F0  F3 ), (-7.953455917432059e-08, F2^ F1^ F2  F3 ), (4.003341690702461e-08, F4^ F1^ F3  F4 ), (0.020862210543467662, F4^ F1^ F3  F6 ), (0.020862210543467662, F6^ F1^ F3  F4 ), (0.019701592469607437, F1^ F0^ F4  F5 ), (1.6326383246278563e-07, F1^ F0^ F5  F6 ), (2.136260074718727e-07, F2^ F1^ F4  F5 ), (0.019849143448154652, F2^ F1^ F5  F6 ), (-0.019701592469607433, F4^ F1^ F0  F5 ), (2.1362600746796957e-07, F4^ F1^ F2  F5 ), (1.6326383246267721e-07, F6^ F1^ F0  F5 ), (-0.01984914344815466, F6^ F1^ F2  F5 ), (-1.6326383246278563e-07, F1^ F0^ F4  F7 ), (0.2574387284878878, F1^ F0^ F6  F7 ), (-0.22443319072369705, F2^ F1^ F4  F7 ), (1.2986006151481655e-07, F2^ F1^ F6  F7 ), (1.632638324658214e-07, F4^ F1^ F0  F7 ), (-0.224433190723697, F4^ F1^ F2  F7 ), (-0.25743872848788774, F6^ F1^ F0  F7 ), (1.298600615155755e-07, F6^ F1^ F2  F7 ), (-0.020680553294128212, F3^ F0^ F1  F2 ), (0.020680553294128205, F3^ F2^ F0  F1 ), (-7.95345591786574e-08, F3^ F2^ F1  F2 ), (4.003341691114458e-08, F4^ F3^ F1  F4 ), (0.02086221054346766, F4^ F3^ F1  F6 ), (0.020862210543467655, F6^ F3^ F1  F4 ), (0.4507583857955602, F3^ F0^ F0  F3 ), (7.953455917432059e-08, F3^ F0^ F2  F3 ), (7.95345591786574e-08, F3^ F2^ F0  F3 ), (0.4884604696426519, F3^ F2^ F2  F3 ), (0.4913540713816471, F4^ F3^ F3  F4 ), (0.46035462788600956, F6^ F3^ F3  F6 ), (-2.136260074718727e-07, F3^ F0^ F4  F5 ), (-0.22443319072369705, F3^ F0^ F5  F6 ), (0.2719559134067307, F3^ F2^ F4  F5 ), (1.6017708434536843e-07, F3^ F2^ F5  F6 ), (2.1362600747631792e-07, F4^ F3^ F0  F5 ), (-0.2719559134067307, F4^ F3^ F2  F5 ), (-0.22443319072369705, F6^ F3^ F0  F5 ), (1.6017708433745375e-07, F6^ F3^ F2  F5 ), (0.019849143448154652, F3^ F0^ F4  F7 ), (-1.2986006151481655e-07, F3^ F0^ F6  F7 ), (-1.6017708434536843e-07, F3^ F2^ F4  F7 ), (0.02108408077280812, F3^ F2^ F6  F7 ), (-0.01984914344815466, F4^ F3^ F0  F7 ), (1.6017708434005584e-07, F4^ F3^ F2  F7 ), (1.29860061510805e-07, F6^ F3^ F0  F7 ), (-0.021084080772808125, F6^ F3^ F2  F7 ), (-0.019701592469607433, F5^ F0^ F1  F4 ), (1.632638324658214e-07, F5^ F0^ F1  F6 ), (2.1362600747631792e-07, F5^ F2^ F1  F4 ), (-0.01984914344815466, F5^ F2^ F1  F6 ), (0.019701592469607437, F5^ F4^ F0  F1 ), (2.1362600747501688e-07, F5^ F4^ F1  F2 ), (1.632638324599667e-07, F6^ F5^ F0  F1 ), (0.01984914344815466, F6^ F5^ F1  F2 ), (2.1362600746796957e-07, F5^ F0^ F3  F4 ), (-0.224433190723697, F5^ F0^ F3  F6 ), (-0.2719559134067307, F5^ F2^ F3  F4 ), (1.6017708434005584e-07, F5^ F2^ F3  F6 ), (-2.1362600747501688e-07, F5^ F4^ F0  F3 ), (0.2719559134067307, F5^ F4^ F2  F3 ), (-0.224433190723697, F6^ F5^ F0  F3 ), (1.6017708433539377e-07, F6^ F5^ F2  F3 ), (0.452378949129996, F5^ F0^ F0  F5 ), (4.003341690702461e-08, F5^ F0^ F2  F5 ), (4.003341691114458e-08, F5^ F2^ F0  F5 ), (0.4913540713816471, F5^ F2^ F2  F5 ), (0.4944206338510618, F5^ F4^ F4  F5 ), (0.46223347355108224, F6^ F5^ F5  F6 ), (-2.047043126771498e-08, F5^ F0^ F0  F7 ), (0.020862210543467662, F5^ F0^ F2  F7 ), (0.02086221054346766, F5^ F2^ F0  F7 ), (0.022031002669982914, F5^ F4^ F6  F7 ), (-0.022031002669982903, F6^ F5^ F4  F7 ), (1.6326383246267721e-07, F7^ F0^ F1  F4 ), (-0.25743872848788774, F7^ F0^ F1  F6 ), (-0.22443319072369705, F7^ F2^ F1  F4 ), (1.29860061510805e-07, F7^ F2^ F1  F6 ), (-1.632638324599667e-07, F7^ F4^ F0  F1 ), (-0.224433190723697, F7^ F4^ F1  F2 ), (0.25743872848788774, F7^ F6^ F0  F1 ), (1.2986006151362393e-07, F7^ F6^ F1  F2 ), (-0.01984914344815466, F7^ F0^ F3  F4 ), (1.298600615155755e-07, F7^ F0^ F3  F6 ), (1.6017708433745375e-07, F7^ F2^ F3  F4 ), (-0.021084080772808125, F7^ F2^ F3  F6 ), (0.01984914344815466, F7^ F4^ F0  F3 ), (-1.6017708433539377e-07, F7^ F4^ F2  F3 ), (-1.2986006151362393e-07, F7^ F6^ F0  F3 ), (0.02108408077280812, F7^ F6^ F2  F3 ), (-2.047043126793182e-08, F7^ F0^ F0  F5 ), (0.020862210543467662, F7^ F0^ F2  F5 ), (0.020862210543467655, F7^ F2^ F0  F5 ), (-0.022031002669982903, F7^ F4^ F5  F6 ), (0.022031002669982907, F7^ F6^ F4  F5 ), (0.5043540944019087, F7^ F0^ F0  F7 ), (0.46035462788600956, F7^ F2^ F2  F7 ), (0.46223347355108224, F7^ F4^ F4  F7 ), (0.5165558818006142, F7^ F6^ F6  F7 )\n",
      "\n",
      "SECOND QUANTIZED HAMILTONIAN AS DATAFRAME: [2. 2. 2. 2. 2. 2. 2. 2. 0. 0. 0. 0.]\n",
      "\n",
      "HARTREE FOCK ENERGY: -108.74036722308217\n",
      "\n",
      "FOCK SPACE AND THE HARTREE-FOCK STATE OCCUPATIONS: \n",
      " 0 0a         :  1    \n",
      " 1 0b         :  1    \n",
      " 2 1a         :  1    \n",
      " 3 1b         :  1    \n",
      " 4 2a         :  0    \n",
      " 5 2b         :  0    \n",
      " 6 3a         :  0    \n",
      " 7 3b         :  0    \n"
     ]
    }
   ],
   "source": [
    "fermionic_hamiltonian = chemistry_hamiltonian.to_FermionOperator()\n",
    "\n",
    "\n",
    "print('SECOND QUANTIZED HAMILTONIAN PRINTED:\\n{}\\n'.format(fermionic_hamiltonian))\n",
    "print('SECOND QUANTIZED HAMILTONIAN AS DATAFRAME: {}\\n'.format(driver._mf.mo_occ))\n",
    "print('HARTREE FOCK ENERGY: {}\\n'.format(hartree_fock_energy))\n",
    "print('FOCK SPACE AND THE HARTREE-FOCK STATE OCCUPATIONS: ')\n",
    "fock_space.print_state(hartree_fock_state)"
   ]
  },
  {
   "cell_type": "code",
   "execution_count": 7,
   "metadata": {},
   "outputs": [
    {
     "data": {
      "text/latex": [
       "$\\displaystyle \\left[\\begin{matrix}2.0\\\\2.0\\\\2.0\\\\2.0\\\\2.0\\\\2.0\\\\2.0\\\\2.0\\\\0\\\\0\\\\0\\\\0\\end{matrix}\\right]$"
      ],
      "text/plain": [
       "Matrix([\n",
       "[2.0],\n",
       "[2.0],\n",
       "[2.0],\n",
       "[2.0],\n",
       "[2.0],\n",
       "[2.0],\n",
       "[2.0],\n",
       "[2.0],\n",
       "[  0],\n",
       "[  0],\n",
       "[  0],\n",
       "[  0]])"
      ]
     },
     "execution_count": 7,
     "metadata": {},
     "output_type": "execute_result"
    }
   ],
   "source": [
    "import sympy as sp\n",
    "sp.Matrix(driver._mf.mo_occ)"
   ]
  },
  {
   "cell_type": "code",
   "execution_count": 8,
   "metadata": {},
   "outputs": [],
   "source": [
    "# convert the chemistry_hamiltonian object to a FermionOperator object (to work in the fermionic basis)\n",
    "fermionic_hamiltonian = chemistry_hamiltonian.to_FermionOperator()\n",
    "\n",
    "# convert the FermionOperator object to a qubit Hamiltonian using the Jordan-Wigner encoding scheme (ham in terms of qubits operator)\n",
    "qubit_ham = fermionic_hamiltonian.qubit_encode()\n",
    "\n",
    "# convert the qubit Hamiltonian to a sparse matrix\n",
    "qubit_ham_matrix = qubit_ham.to_sparse_matrix().todense()"
   ]
  },
  {
   "cell_type": "code",
   "execution_count": 9,
   "metadata": {},
   "outputs": [
    {
     "ename": "ValueError",
     "evalue": "x and y must have same first dimension, but have shapes (16,) and (256,)",
     "output_type": "error",
     "traceback": [
      "\u001b[0;31m---------------------------------------------------------------------------\u001b[0m",
      "\u001b[0;31mValueError\u001b[0m                                Traceback (most recent call last)",
      "Cell \u001b[0;32mIn[9], line 3\u001b[0m\n\u001b[1;32m      1\u001b[0m \u001b[39mimport\u001b[39;00m \u001b[39mmatplotlib\u001b[39;00m\u001b[39m.\u001b[39;00m\u001b[39mpyplot\u001b[39;00m \u001b[39mas\u001b[39;00m \u001b[39mplt\u001b[39;00m\n\u001b[0;32m----> 3\u001b[0m plt\u001b[39m.\u001b[39;49mplot([i \u001b[39mfor\u001b[39;49;00m i \u001b[39min\u001b[39;49;00m \u001b[39mrange\u001b[39;49m(\u001b[39m1\u001b[39;49m, \u001b[39m17\u001b[39;49m)], \u001b[39mlist\u001b[39;49m(eigh(qubit_ham_matrix)[\u001b[39m0\u001b[39;49m]), \u001b[39m'\u001b[39;49m\u001b[39mro\u001b[39;49m\u001b[39m'\u001b[39;49m)\n\u001b[1;32m      4\u001b[0m plt\u001b[39m.\u001b[39maxis([\u001b[39m0\u001b[39m, \u001b[39m17\u001b[39m, \u001b[39m-\u001b[39m\u001b[39m109\u001b[39m, \u001b[39m-\u001b[39m\u001b[39m107\u001b[39m])\n\u001b[1;32m      5\u001b[0m plt\u001b[39m.\u001b[39mxlabel(\u001b[39m\"\u001b[39m\u001b[39mE_i\u001b[39m\u001b[39m\"\u001b[39m)\n",
      "File \u001b[0;32m/usr/local/lib/python3.10/site-packages/matplotlib/pyplot.py:2740\u001b[0m, in \u001b[0;36mplot\u001b[0;34m(scalex, scaley, data, *args, **kwargs)\u001b[0m\n\u001b[1;32m   2738\u001b[0m \u001b[39m@_copy_docstring_and_deprecators\u001b[39m(Axes\u001b[39m.\u001b[39mplot)\n\u001b[1;32m   2739\u001b[0m \u001b[39mdef\u001b[39;00m \u001b[39mplot\u001b[39m(\u001b[39m*\u001b[39margs, scalex\u001b[39m=\u001b[39m\u001b[39mTrue\u001b[39;00m, scaley\u001b[39m=\u001b[39m\u001b[39mTrue\u001b[39;00m, data\u001b[39m=\u001b[39m\u001b[39mNone\u001b[39;00m, \u001b[39m*\u001b[39m\u001b[39m*\u001b[39mkwargs):\n\u001b[0;32m-> 2740\u001b[0m     \u001b[39mreturn\u001b[39;00m gca()\u001b[39m.\u001b[39;49mplot(\n\u001b[1;32m   2741\u001b[0m         \u001b[39m*\u001b[39;49margs, scalex\u001b[39m=\u001b[39;49mscalex, scaley\u001b[39m=\u001b[39;49mscaley,\n\u001b[1;32m   2742\u001b[0m         \u001b[39m*\u001b[39;49m\u001b[39m*\u001b[39;49m({\u001b[39m\"\u001b[39;49m\u001b[39mdata\u001b[39;49m\u001b[39m\"\u001b[39;49m: data} \u001b[39mif\u001b[39;49;00m data \u001b[39mis\u001b[39;49;00m \u001b[39mnot\u001b[39;49;00m \u001b[39mNone\u001b[39;49;00m \u001b[39melse\u001b[39;49;00m {}), \u001b[39m*\u001b[39;49m\u001b[39m*\u001b[39;49mkwargs)\n",
      "File \u001b[0;32m/usr/local/lib/python3.10/site-packages/matplotlib/axes/_axes.py:1662\u001b[0m, in \u001b[0;36mAxes.plot\u001b[0;34m(self, scalex, scaley, data, *args, **kwargs)\u001b[0m\n\u001b[1;32m   1419\u001b[0m \u001b[39m\u001b[39m\u001b[39m\"\"\"\u001b[39;00m\n\u001b[1;32m   1420\u001b[0m \u001b[39mPlot y versus x as lines and/or markers.\u001b[39;00m\n\u001b[1;32m   1421\u001b[0m \n\u001b[0;32m   (...)\u001b[0m\n\u001b[1;32m   1659\u001b[0m \u001b[39m(``'green'``) or hex strings (``'#008000'``).\u001b[39;00m\n\u001b[1;32m   1660\u001b[0m \u001b[39m\"\"\"\u001b[39;00m\n\u001b[1;32m   1661\u001b[0m kwargs \u001b[39m=\u001b[39m cbook\u001b[39m.\u001b[39mnormalize_kwargs(kwargs, mlines\u001b[39m.\u001b[39mLine2D)\n\u001b[0;32m-> 1662\u001b[0m lines \u001b[39m=\u001b[39m [\u001b[39m*\u001b[39m\u001b[39mself\u001b[39m\u001b[39m.\u001b[39m_get_lines(\u001b[39m*\u001b[39margs, data\u001b[39m=\u001b[39mdata, \u001b[39m*\u001b[39m\u001b[39m*\u001b[39mkwargs)]\n\u001b[1;32m   1663\u001b[0m \u001b[39mfor\u001b[39;00m line \u001b[39min\u001b[39;00m lines:\n\u001b[1;32m   1664\u001b[0m     \u001b[39mself\u001b[39m\u001b[39m.\u001b[39madd_line(line)\n",
      "File \u001b[0;32m/usr/local/lib/python3.10/site-packages/matplotlib/axes/_base.py:311\u001b[0m, in \u001b[0;36m_process_plot_var_args.__call__\u001b[0;34m(self, data, *args, **kwargs)\u001b[0m\n\u001b[1;32m    309\u001b[0m     this \u001b[39m+\u001b[39m\u001b[39m=\u001b[39m args[\u001b[39m0\u001b[39m],\n\u001b[1;32m    310\u001b[0m     args \u001b[39m=\u001b[39m args[\u001b[39m1\u001b[39m:]\n\u001b[0;32m--> 311\u001b[0m \u001b[39myield from\u001b[39;00m \u001b[39mself\u001b[39;49m\u001b[39m.\u001b[39;49m_plot_args(\n\u001b[1;32m    312\u001b[0m     this, kwargs, ambiguous_fmt_datakey\u001b[39m=\u001b[39;49mambiguous_fmt_datakey)\n",
      "File \u001b[0;32m/usr/local/lib/python3.10/site-packages/matplotlib/axes/_base.py:504\u001b[0m, in \u001b[0;36m_process_plot_var_args._plot_args\u001b[0;34m(self, tup, kwargs, return_kwargs, ambiguous_fmt_datakey)\u001b[0m\n\u001b[1;32m    501\u001b[0m     \u001b[39mself\u001b[39m\u001b[39m.\u001b[39maxes\u001b[39m.\u001b[39myaxis\u001b[39m.\u001b[39mupdate_units(y)\n\u001b[1;32m    503\u001b[0m \u001b[39mif\u001b[39;00m x\u001b[39m.\u001b[39mshape[\u001b[39m0\u001b[39m] \u001b[39m!=\u001b[39m y\u001b[39m.\u001b[39mshape[\u001b[39m0\u001b[39m]:\n\u001b[0;32m--> 504\u001b[0m     \u001b[39mraise\u001b[39;00m \u001b[39mValueError\u001b[39;00m(\u001b[39mf\u001b[39m\u001b[39m\"\u001b[39m\u001b[39mx and y must have same first dimension, but \u001b[39m\u001b[39m\"\u001b[39m\n\u001b[1;32m    505\u001b[0m                      \u001b[39mf\u001b[39m\u001b[39m\"\u001b[39m\u001b[39mhave shapes \u001b[39m\u001b[39m{\u001b[39;00mx\u001b[39m.\u001b[39mshape\u001b[39m}\u001b[39;00m\u001b[39m and \u001b[39m\u001b[39m{\u001b[39;00my\u001b[39m.\u001b[39mshape\u001b[39m}\u001b[39;00m\u001b[39m\"\u001b[39m)\n\u001b[1;32m    506\u001b[0m \u001b[39mif\u001b[39;00m x\u001b[39m.\u001b[39mndim \u001b[39m>\u001b[39m \u001b[39m2\u001b[39m \u001b[39mor\u001b[39;00m y\u001b[39m.\u001b[39mndim \u001b[39m>\u001b[39m \u001b[39m2\u001b[39m:\n\u001b[1;32m    507\u001b[0m     \u001b[39mraise\u001b[39;00m \u001b[39mValueError\u001b[39;00m(\u001b[39mf\u001b[39m\u001b[39m\"\u001b[39m\u001b[39mx and y can be no greater than 2D, but have \u001b[39m\u001b[39m\"\u001b[39m\n\u001b[1;32m    508\u001b[0m                      \u001b[39mf\u001b[39m\u001b[39m\"\u001b[39m\u001b[39mshapes \u001b[39m\u001b[39m{\u001b[39;00mx\u001b[39m.\u001b[39mshape\u001b[39m}\u001b[39;00m\u001b[39m and \u001b[39m\u001b[39m{\u001b[39;00my\u001b[39m.\u001b[39mshape\u001b[39m}\u001b[39;00m\u001b[39m\"\u001b[39m)\n",
      "\u001b[0;31mValueError\u001b[0m: x and y must have same first dimension, but have shapes (16,) and (256,)"
     ]
    },
    {
     "data": {
      "image/png": "[encoded data removed]",
      "text/plain": [
       "<Figure size 640x480 with 1 Axes>"
      ]
     },
     "metadata": {},
     "output_type": "display_data"
    }
   ],
   "source": [
    "import matplotlib.pyplot as plt\n",
    "\n",
    "plt.plot([i for i in range(1, 17)], list(eigh(qubit_ham_matrix)[0]), 'ro')\n",
    "plt.axis([0, 17, -109, -107])\n",
    "plt.xlabel(\"E_i\")\n",
    "plt.ylabel(\"Eigenenergies\")\n",
    "plt.show()\n"
   ]
  },
  {
   "cell_type": "code",
   "execution_count": 10,
   "metadata": {},
   "outputs": [
    {
     "name": "stdout",
     "output_type": "stream",
     "text": [
      "Excitation energy: 0.12722764352276722 eV\n",
      "Excitation wavelength: 9746.309572872846 nm\n"
     ]
    }
   ],
   "source": [
    "# calculate the excitation energy \n",
    "exc_energy = list(eigh(qubit_ham_matrix)[0])[1] - min(list(eigh(qubit_ham_matrix)[0])); \n",
    "\n",
    "# calculate the excitation wavelength \n",
    "exc_wavelength = 1240 / (exc_energy*27.2107)\n",
    "\n",
    "print(f\"Excitation energy: {exc_energy*27.2107} eV\")\n",
    "print(f\"Excitation wavelength: {exc_wavelength} nm\")"
   ]
  },
  {
   "cell_type": "code",
   "execution_count": 13,
   "metadata": {},
   "outputs": [
    {
     "name": "stdout",
     "output_type": "stream",
     "text": [
      "# TIMER BLOCK-0 BEGINS AT 2023-04-22 10:17:16.837999\n",
      "# TIMER BLOCK-0 ENDS - DURATION (s): 1133.1919596 [0:18:53.191960]\n",
      "{'minimizer': {'final_value': -109.18291599949123, 'final_parameters': array([-3.98816066e-05, -3.17359434e-05, -1.05255436e-04,  3.38368170e-05,\n",
      "       -4.48980898e-05, -5.17009926e-05,  3.93288309e-05,  2.45796778e-05,\n",
      "       -3.46655490e-02,  8.71767557e-06, -7.88181484e-02,  3.34304907e-05,\n",
      "       -2.23801114e-01,  3.53248598e-05, -5.38412949e-01, -1.87764341e-01,\n",
      "        1.58529856e-05,  8.11917046e-06, -2.64425961e-01, -9.22846002e-02,\n",
      "       -1.80792140e-01,  1.68664877e-05, -6.58767842e-01,  2.91432685e-06,\n",
      "        4.37063157e-05, -3.33411155e-02])}, 'final_value': -109.18291599949123, 'initial_parameters': [{'ordering': 0, 'symbol': 's0', 'value': 0.0}, {'ordering': 1, 'symbol': 's1', 'value': 0.0}, {'ordering': 2, 'symbol': 's2', 'value': 0.0}, {'ordering': 3, 'symbol': 's3', 'value': 0.0}, {'ordering': 4, 'symbol': 's4', 'value': 0.0}, {'ordering': 5, 'symbol': 's5', 'value': 0.0}, {'ordering': 6, 'symbol': 's6', 'value': 0.0}, {'ordering': 7, 'symbol': 's7', 'value': 0.0}, {'ordering': 8, 'symbol': 'd0', 'value': 0.0}, {'ordering': 9, 'symbol': 'd1', 'value': 0.0}, {'ordering': 10, 'symbol': 'd2', 'value': 0.0}, {'ordering': 11, 'symbol': 'd3', 'value': 0.0}, {'ordering': 12, 'symbol': 'd4', 'value': 0.0}, {'ordering': 13, 'symbol': 'd5', 'value': 0.0}, {'ordering': 14, 'symbol': 'd6', 'value': 0.0}, {'ordering': 15, 'symbol': 'd7', 'value': 0.0}, {'ordering': 16, 'symbol': 'd8', 'value': 0.0}, {'ordering': 17, 'symbol': 'd9', 'value': 0.0}, {'ordering': 18, 'symbol': 'd10', 'value': 0.0}, {'ordering': 19, 'symbol': 'd11', 'value': 0.0}, {'ordering': 20, 'symbol': 'd12', 'value': 0.0}, {'ordering': 21, 'symbol': 'd13', 'value': 0.0}, {'ordering': 22, 'symbol': 'd14', 'value': 0.0}, {'ordering': 23, 'symbol': 'd15', 'value': 0.0}, {'ordering': 24, 'symbol': 'd16', 'value': 0.0}, {'ordering': 25, 'symbol': 'd17', 'value': 0.0}], 'final_parameters': [{'ordering': 0, 'symbol': 's0', 'value': -3.9881606576835865e-05}, {'ordering': 1, 'symbol': 's1', 'value': -3.1735943430643565e-05}, {'ordering': 2, 'symbol': 's2', 'value': -0.00010525543649237781}, {'ordering': 3, 'symbol': 's3', 'value': 3.383681696210987e-05}, {'ordering': 4, 'symbol': 's4', 'value': -4.4898089849676774e-05}, {'ordering': 5, 'symbol': 's5', 'value': -5.170099263906191e-05}, {'ordering': 6, 'symbol': 's6', 'value': 3.932883094178119e-05}, {'ordering': 7, 'symbol': 's7', 'value': 2.457967776561997e-05}, {'ordering': 8, 'symbol': 'd0', 'value': -0.03466554900541223}, {'ordering': 9, 'symbol': 'd1', 'value': 8.717675567208282e-06}, {'ordering': 10, 'symbol': 'd2', 'value': -0.07881814837903538}, {'ordering': 11, 'symbol': 'd3', 'value': 3.343049068075563e-05}, {'ordering': 12, 'symbol': 'd4', 'value': -0.2238011142206878}, {'ordering': 13, 'symbol': 'd5', 'value': 3.5324859775858096e-05}, {'ordering': 14, 'symbol': 'd6', 'value': -0.5384129487838007}, {'ordering': 15, 'symbol': 'd7', 'value': -0.1877643413870587}, {'ordering': 16, 'symbol': 'd8', 'value': 1.585298563870438e-05}, {'ordering': 17, 'symbol': 'd9', 'value': 8.119170464434768e-06}, {'ordering': 18, 'symbol': 'd10', 'value': -0.26442596080343783}, {'ordering': 19, 'symbol': 'd11', 'value': -0.09228460019469652}, {'ordering': 20, 'symbol': 'd12', 'value': -0.1807921400995051}, {'ordering': 21, 'symbol': 'd13', 'value': 1.686648771487849e-05}, {'ordering': 22, 'symbol': 'd14', 'value': -0.6587678423031527}, {'ordering': 23, 'symbol': 'd15', 'value': 2.9143268520380764e-06}, {'ordering': 24, 'symbol': 'd16', 'value': 4.370631565553744e-05}, {'ordering': 25, 'symbol': 'd17', 'value': -0.03334111549617928}]}\n"
     ]
    }
   ],
   "source": [
    "\n",
    "from inquanto.spaces import FermionSpace\n",
    "from inquanto.protocols import ProtocolDirect\n",
    "from pytket.extensions.qiskit import AerStateBackend\n",
    "from inquanto.mappings import QubitMappingJordanWigner\n",
    "from inquanto.ansatzes import FermionSpaceAnsatzUCCSD\n",
    "from inquanto.computables import ComputableQSEMatrices\n",
    "from inquanto.algorithms import AlgorithmQSE\n",
    "from inquanto.algorithms import AlgorithmVQE\n",
    "from inquanto.computables import ExpectationValue\n",
    "from inquanto.protocols import ProtocolStateVectorSparse\n",
    "from inquanto.minimizers import MinimizerScipy\n",
    "\n",
    "\n",
    "hamiltonian = fermionic_hamiltonian\n",
    "n_electron = 4 #3\n",
    "n_orbitals = 4 #3\n",
    "fermion_space = FermionSpace(2 * n_orbitals)\n",
    "fermion_state = fermion_space.generate_occupation_state(\n",
    "    n_fermion=n_electron,\n",
    ")\n",
    "\n",
    "backend = AerStateBackend()\n",
    "minimizer = MinimizerScipy()\n",
    "\n",
    "mapping = QubitMappingJordanWigner()\n",
    "qubit_hamiltonian = mapping.operator_map(fermionic_hamiltonian)\n",
    "\n",
    "\n",
    "ansatz = FermionSpaceAnsatzUCCSD(fermion_space, fermion_state, mapping)\n",
    "\n",
    "\n",
    "\n",
    "expectation_value = ExpectationValue(ansatz, qubit_hamiltonian)\n",
    "\n",
    "\n",
    "\n",
    "initial_parameters = ansatz.state_symbols.construct_zeros()\n",
    "\n",
    "\n",
    "vqe = AlgorithmVQE(\n",
    "    objective_expression=expectation_value,\n",
    "    minimizer=minimizer,\n",
    "    initial_parameters=initial_parameters)\n",
    "\n",
    "\n",
    "\n",
    "protocol_expression = ProtocolStateVectorSparse()\n",
    "\n",
    "\n",
    "\n",
    "\n",
    "vqe.build(\n",
    "    backend=backend,\n",
    "    protocol_expression=protocol_expression)\n",
    "\n",
    "\n",
    "vqe.run()\n",
    "print(vqe.generate_report())"
   ]
  },
  {
   "cell_type": "code",
   "execution_count": null,
   "metadata": {},
   "outputs": [],
   "source": [
    "vqe.final_value"
   ]
  },
  {
   "cell_type": "code",
   "execution_count": null,
   "metadata": {},
   "outputs": [],
   "source": [
    "#[-3.98816066e-05, -3.17359434e-05, -1.05255436e-04,  3.38368170e-05,\n",
    "      #  -4.48980898e-05, -5.17009926e-05,  3.93288309e-05,  2.45796778e-05,\n",
    "      #  -3.46655490e-02,  8.71767557e-06, -7.88181484e-02,  3.34304907e-05,\n",
    "      #  -2.23801114e-01,  3.53248598e-05, -5.38412949e-01, -1.87764341e-01,\n",
    "      #   1.58529856e-05,  8.11917046e-06, -2.64425961e-01, -9.22846002e-02,\n",
    "      #  -1.80792140e-01,  1.68664877e-05, -6.58767842e-01,  2.91432685e-06,\n",
    "      #   4.37063157e-05, -3.33411155e-02]"
   ]
  },
  {
   "cell_type": "code",
   "execution_count": 16,
   "metadata": {},
   "outputs": [],
   "source": [
    "jw = QubitMappingJordanWigner()\n",
    "qubit_hamiltonian = jw.operator_map(hamiltonian)\n",
    "ansatz = FermionSpaceAnsatzUCCSD(fermion_space, fermion_state, qubit_mapping=jw)\n",
    "\n",
    "\n",
    "expansion_operators = jw.operator_map(\n",
    "    fermion_space.generate_subspace_singlet_singles()\n",
    ")\n",
    "\n",
    "\n",
    "vqe_parameters = ansatz.state_symbols.construct_from_array(\n",
    "    [-3.98816066e-05, -3.17359434e-05, -1.05255436e-04,  3.38368170e-05,\n",
    "       -4.48980898e-05, -5.17009926e-05,  3.93288309e-05,  2.45796778e-05,\n",
    "       -3.46655490e-02,  8.71767557e-06, -7.88181484e-02,  3.34304907e-05,\n",
    "       -2.23801114e-01,  3.53248598e-05, -5.38412949e-01, -1.87764341e-01,\n",
    "        1.58529856e-05,  8.11917046e-06, -2.64425961e-01, -9.22846002e-02,\n",
    "       -1.80792140e-01,  1.68664877e-05, -6.58767842e-01,  2.91432685e-06,\n",
    "        4.37063157e-05, -3.33411155e-02]\n",
    ")\n",
    "\n",
    "computable = ComputableQSEMatrices(\n",
    "    state=ansatz,\n",
    "    hermitian_operator=qubit_hamiltonian,\n",
    "    expansion_operators=expansion_operators,\n",
    ")\n",
    "\n",
    "algorithm = AlgorithmQSE(\n",
    "    computable_qse_matrices=computable,\n",
    "    parameters=vqe_parameters,\n",
    ")\n",
    "\n",
    "\n",
    "protocol_expression = ProtocolDirect()\n",
    "backend = AerBackend()\n",
    "\n",
    "algorithm.build(\n",
    "    backend=backend,\n",
    "    objective_protocol=protocol_expression,\n",
    "    n_shots=2000,\n",
    ")\n",
    "\n",
    "algorithm.run()\n",
    "print(algorithm.generate_report())"
   ]
  },
  {
   "cell_type": "code",
   "execution_count": null,
   "metadata": {},
   "outputs": [
    {
     "name": "stdout",
     "output_type": "stream",
     "text": [
      "Excitation energy: 2039.888192180872 eV\n",
      "Excitation wavelength: 0.6078764535983217 nm\n"
     ]
    }
   ],
   "source": [
    "final_value = sorted([-184.62305273, -109.65665377, -108.42380041,  -88.00473824])\n",
    "\n",
    "\n",
    "# calculate the excitation energy \n",
    "exc_energyc = (final_value[1] - final_value[0])*27.2107; \n",
    "\n",
    "# calculate the excitation wavelength \n",
    "exc_wavelengthc = 1240 / (exc_energyc)\n",
    "\n",
    "print(f\"Excitation energy: {exc_energyc} eV\")\n",
    "print(f\"Excitation wavelength: {exc_wavelengthc} nm\")"
   ]
  },
  {
   "cell_type": "code",
   "execution_count": null,
   "metadata": {},
   "outputs": [
    {
     "data": {
      "text/plain": [
       "-108.58381567"
      ]
     },
     "execution_count": 160,
     "metadata": {},
     "output_type": "execute_result"
    }
   ],
   "source": []
  },
  {
   "cell_type": "code",
   "execution_count": null,
   "metadata": {},
   "outputs": [],
   "source": []
  },
  {
   "cell_type": "code",
   "execution_count": null,
   "metadata": {},
   "outputs": [],
   "source": []
  },
  {
   "cell_type": "code",
   "execution_count": null,
   "metadata": {},
   "outputs": [],
   "source": []
  },
  {
   "cell_type": "code",
   "execution_count": null,
   "metadata": {},
   "outputs": [],
   "source": []
  },
  {
   "cell_type": "code",
   "execution_count": null,
   "metadata": {},
   "outputs": [],
   "source": []
  },
  {
   "cell_type": "code",
   "execution_count": null,
   "metadata": {},
   "outputs": [],
   "source": []
  },
  {
   "cell_type": "code",
   "execution_count": null,
   "metadata": {},
   "outputs": [],
   "source": []
  },
  {
   "cell_type": "code",
   "execution_count": null,
   "metadata": {},
   "outputs": [],
   "source": []
  },
  {
   "cell_type": "code",
   "execution_count": null,
   "metadata": {},
   "outputs": [],
   "source": []
  }
 ],
 "metadata": {
  "kernelspec": {
   "display_name": "Python 3",
   "language": "python",
   "name": "python3"
  },
  "language_info": {
   "codemirror_mode": {
    "name": "ipython",
    "version": 3
   },
   "file_extension": ".py",
   "mimetype": "text/x-python",
   "name": "python",
   "nbconvert_exporter": "python",
   "pygments_lexer": "ipython3",
   "version": "3.10.6"
  },
  "orig_nbformat": 4
 },
 "nbformat": 4,
 "nbformat_minor": 2
}
